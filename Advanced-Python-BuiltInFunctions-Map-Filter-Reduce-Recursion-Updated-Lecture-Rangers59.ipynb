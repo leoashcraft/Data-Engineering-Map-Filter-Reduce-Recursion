{
  "metadata": {
    "kernelspec": {
      "name": "python",
      "display_name": "Python (Pyodide)",
      "language": "python"
    },
    "language_info": {
      "codemirror_mode": {
        "name": "python",
        "version": 3
      },
      "file_extension": ".py",
      "mimetype": "text/x-python",
      "name": "python",
      "nbconvert_exporter": "python",
      "pygments_lexer": "ipython3",
      "version": "3.8"
    }
  },
  "nbformat_minor": 4,
  "nbformat": 4,
  "cells": [
    {
      "cell_type": "markdown",
      "source": "# Map, Filter, Reduce, Lambda & Recursion",
      "metadata": {}
    },
    {
      "cell_type": "markdown",
      "source": "## Tasks Today:\n\n1) <b>Lambda Functions</b> <br>\n &nbsp;&nbsp;&nbsp;&nbsp; a) Syntax <br>\n &nbsp;&nbsp;&nbsp;&nbsp; b) Saving to a Variable <br>\n &nbsp;&nbsp;&nbsp;&nbsp; c) Multiple Inputs <br>\n &nbsp;&nbsp;&nbsp;&nbsp; d) Passing a Lambda into a Function <br>\n &nbsp;&nbsp;&nbsp;&nbsp; e) Returning a Lambda from a Function <br>\n &nbsp;&nbsp;&nbsp;&nbsp; f) In-Class Exercise #1 <br>\n2) <b>Map</b> <br>\n &nbsp;&nbsp;&nbsp;&nbsp; a) Syntax <br>\n &nbsp;&nbsp;&nbsp;&nbsp; b) Using Lambda's with Map <br>\n &nbsp;&nbsp;&nbsp;&nbsp; c) In-Class Exercise #2 <br>\n3) <b>Filter</b> <br>\n &nbsp;&nbsp;&nbsp;&nbsp; a) Syntax <br>\n &nbsp;&nbsp;&nbsp;&nbsp; b) Using Lambda's with Filter <br>\n &nbsp;&nbsp;&nbsp;&nbsp; c) In-Class Exercise #3 <br>\n4) <b>Reduce</b> <br>\n &nbsp;&nbsp;&nbsp;&nbsp; a) Syntax <br>\n &nbsp;&nbsp;&nbsp;&nbsp; b) Using Lambda's with Reduce <br>\n &nbsp;&nbsp;&nbsp;&nbsp; c) In-Class Exercise #4 <br>\n5) <b>Recursion</b> <br>\n &nbsp;&nbsp;&nbsp;&nbsp; a) Implementing a Base <br>\n &nbsp;&nbsp;&nbsp;&nbsp; b) Writing a Factorial Function <br>\n &nbsp;&nbsp;&nbsp;&nbsp; c) In-Class Exercise #5 <br>\n6) <b>Generators & Iterators</b> <br>\n &nbsp;&nbsp;&nbsp;&nbsp; a) Yield Keyword <br>\n &nbsp;&nbsp;&nbsp;&nbsp; b) Inifinite Generator <br>\n &nbsp;&nbsp;&nbsp;&nbsp; c) In-Class Exercise #6 <br>\n7) <b>Exercises</b> <br>\n &nbsp;&nbsp;&nbsp;&nbsp; a) Exercise #1 - Filtering Empty Strings <br>\n &nbsp;&nbsp;&nbsp;&nbsp; b) Exercise #2 - Sorting with Last Name <br>\n &nbsp;&nbsp;&nbsp;&nbsp; c) Exercise #3 - Conversion to Farhenheit <br>\n &nbsp;&nbsp;&nbsp;&nbsp; d) Exercise #4 - Fibonacci Sequence <br>",
      "metadata": {}
    },
    {
      "cell_type": "markdown",
      "source": "## Lambda Functions <br>\n<p>Lambda functions... or \"Anonymous Functions\" are referring to inline functions with no name. The keyword lambda denotes the no name function, and executes within a single line. Without saving it to a variable; however, it is not able to be used, unless passed in either as a paramater or within list comprehension.<br>Written as \"(keyword lambda) (one or more inputs) (colon) (function to be executed)\"</p>",
      "metadata": {}
    },
    {
      "cell_type": "markdown",
      "source": "#### Syntax",
      "metadata": {}
    },
    {
      "cell_type": "code",
      "source": "def addTwo(x):\n    return x + 2\n\nprint(addTwo(4))\n\n#Lambda function syntax\n\na_var = 4\nprint((lambda x: x + 2)(a_var))",
      "metadata": {
        "trusted": true
      },
      "execution_count": 18,
      "outputs": [
        {
          "name": "stdout",
          "text": "6\n6\n",
          "output_type": "stream"
        }
      ]
    },
    {
      "cell_type": "markdown",
      "source": "#### Saving to a Variable",
      "metadata": {}
    },
    {
      "cell_type": "code",
      "source": "f_test = lambda x: x + 2\nf_test(4)",
      "metadata": {
        "trusted": true
      },
      "execution_count": 5,
      "outputs": [
        {
          "execution_count": 5,
          "output_type": "execute_result",
          "data": {
            "text/plain": "6"
          },
          "metadata": {}
        }
      ]
    },
    {
      "cell_type": "markdown",
      "source": "#### Multiple Inputs",
      "metadata": {}
    },
    {
      "cell_type": "code",
      "source": "#multiple inputs with no variable\nprint((lambda x,y,z: x * y * z)(3,5,8))\n\nx_test = lambda x, y, z: x * y * z\nprint(x_test(3,5,8))",
      "metadata": {
        "trusted": true
      },
      "execution_count": 8,
      "outputs": [
        {
          "name": "stdout",
          "text": "120\n120\n",
          "output_type": "stream"
        }
      ]
    },
    {
      "cell_type": "markdown",
      "source": "#### Passing a Lambda into a Function",
      "metadata": {}
    },
    {
      "cell_type": "code",
      "source": "def multiply(f, num):\n    '''\n        f expects a lambda function\n        num expects a number\n    '''\n    return f(num)\nmultiply(lambda x: x * x, 4)",
      "metadata": {
        "trusted": true
      },
      "execution_count": 9,
      "outputs": [
        {
          "execution_count": 9,
          "output_type": "execute_result",
          "data": {
            "text/plain": "16"
          },
          "metadata": {}
        }
      ]
    },
    {
      "cell_type": "markdown",
      "source": "#### Returning a Lambda from a Function",
      "metadata": {}
    },
    {
      "cell_type": "code",
      "source": "def multiply_test(num):\n    return num * 4\n\n#function within a function\ndef returnFunc():\n    test = 4\n    def multiply(num):\n        return num * 2\n    return multiply\n\nf_return = returnFunc()\nprint(returnFunc())\nprint(f_return(4))\n\n# lambda function returned from regular function\n\ndef returnLam(b,c):\n    return lambda x,a: x + a + b + c\nr_lamb = returnLam(4,5)\nprint(r_lamb(5,5))\n",
      "metadata": {
        "trusted": true
      },
      "execution_count": 16,
      "outputs": [
        {
          "name": "stdout",
          "text": "<function returnFunc.<locals>.multiply at 0x2583db8>\n8\n19\n",
          "output_type": "stream"
        }
      ]
    },
    {
      "cell_type": "markdown",
      "source": "#### If Statements within Lambdas",
      "metadata": {}
    },
    {
      "cell_type": "code",
      "source": "#lambda x true if (condition) else false\nf_condition = lambda num : num * 2 if num > 10 else num + 2\nprint(f_condition(8))\n\nprint(f_condition(15))",
      "metadata": {
        "trusted": true
      },
      "execution_count": 19,
      "outputs": [
        {
          "name": "stdout",
          "text": "10\n30\n",
          "output_type": "stream"
        }
      ]
    },
    {
      "cell_type": "markdown",
      "source": "#### In-Class Exercise #1 <br>\n<p>Write an anonymous function that cubes the arguments passed in and assign the anonymous function to a variable 'f'.</p>",
      "metadata": {}
    },
    {
      "cell_type": "code",
      "source": "f = lambda num: num * num * num\nprint((f)(2))",
      "metadata": {
        "trusted": true
      },
      "execution_count": 20,
      "outputs": [
        {
          "name": "stdout",
          "text": "8\n",
          "output_type": "stream"
        }
      ]
    },
    {
      "cell_type": "markdown",
      "source": "## Map <br>\n<p>The map function allows you to iterate over an entire list while running a function on each item of the list. This is why the map function works well with lambda's, because it simplifies things and you write less lines of code.<br>The syntax for a map function is \"map(function to be used, list to be used)\"<br>However, you must be careful, as the map function returns a map object, not a list. To turn it into a list we use the list() type conversion.</p>",
      "metadata": {}
    },
    {
      "cell_type": "markdown",
      "source": "#### Syntax",
      "metadata": {}
    },
    {
      "cell_type": "code",
      "source": "# map(function, iterable)\n#an iterable is something you can loop over; such as list, dict, tuple, set, or string\n#Normally, the usage of map happens with a pre-defined function, but we can use lambdas as well\ndef squared(num, num2):\n    if num < 10 and num2 < 10:\n        return num **2, num2 ** 2\n    else: \n        return num, num2\nnumbers = [4, 11, 20, 3, 15, 20]\nmore_nums = [4, 10, 3, 2, 6]\n\nsquared_nums_map = list(map(squared, numbers, more_nums))\n\nprint(squared_nums_map)",
      "metadata": {
        "trusted": true
      },
      "execution_count": 22,
      "outputs": [
        {
          "name": "stdout",
          "text": "[(16, 16), (11, 10), (20, 3), (9, 4), (15, 6)]\n",
          "output_type": "stream"
        }
      ]
    },
    {
      "cell_type": "markdown",
      "source": "#### Using Lambda's with Map",
      "metadata": {}
    },
    {
      "cell_type": "code",
      "source": "# map(lambda x: do something, iterable)\n#using lambda in map usually all takes palce on one line\nsquared_nums_lam = list(map(lambda x, y : (x ** 2, y ** 2) if x < 10 and y < 10 else (x,y), numbers, more_nums))\nprint(squared_nums_lam)",
      "metadata": {
        "trusted": true
      },
      "execution_count": 25,
      "outputs": [
        {
          "name": "stdout",
          "text": "[(16, 16), (11, 10), (20, 3), (9, 4), (15, 6)]\n",
          "output_type": "stream"
        }
      ]
    },
    {
      "cell_type": "markdown",
      "source": "#### In-Class Exercise #2 <br>\n<p>Use the map function to double each number and minus it by one in the list by using a lambda function</p>",
      "metadata": {}
    },
    {
      "cell_type": "code",
      "source": "mpf = list(map(lambda x: (x*2)-1, squared_nums_lam))\nprint(mpf)",
      "metadata": {
        "trusted": true
      },
      "execution_count": 114,
      "outputs": [
        {
          "name": "stdout",
          "text": "[13, 41, 77, 9, 57, 77]\n",
          "output_type": "stream"
        }
      ]
    },
    {
      "cell_type": "markdown",
      "source": "## Filter() <br>\n<p>Filter's are similar to the map function, where you're able to pass a function argument and a list argument and filter out something from the list based on the conditions passed. Similar to the map function, it returns a filter object, so you need to type convert it to a list()</p>",
      "metadata": {}
    },
    {
      "cell_type": "markdown",
      "source": "#### Syntax",
      "metadata": {}
    },
    {
      "cell_type": "code",
      "source": "names = ['Bob', 'Andy', 'Max', 'Evan', 'Angelica']\ndef a_names(name):\n    if name[0].lower() == 'a':\n        return True\n    else: \n        return False\n\nnew_names_list = list(filter(a_names, names))\n\nprint(new_names_list)\n",
      "metadata": {
        "trusted": true
      },
      "execution_count": 35,
      "outputs": [
        {
          "name": "stdout",
          "text": "['Andy', 'Angelica']\n",
          "output_type": "stream"
        }
      ]
    },
    {
      "cell_type": "markdown",
      "source": "#### Using Lambda's with Filter()",
      "metadata": {}
    },
    {
      "cell_type": "code",
      "source": "new_names_lam = list(filter(lambda name: True if name [0].lower() == 'a' else False, names))\nprint(new_names_lam)",
      "metadata": {
        "trusted": true
      },
      "execution_count": 36,
      "outputs": [
        {
          "name": "stdout",
          "text": "['Andy', 'Angelica']\n",
          "output_type": "stream"
        }
      ]
    },
    {
      "cell_type": "markdown",
      "source": "#### In-Class Exercise #3 <br>\n<p>Filter out all the numbers that are below the mean of the list.<br><b>Hint: Import the 'statistics' module</b></p>",
      "metadata": {}
    },
    {
      "cell_type": "code",
      "source": "from statistics import mean\n\nnums = [2,7,4.2,1.6,9,4.4,4.9]\nmean = mean(nums)\nnew_nums = list(filter(lambda num: num < mean, nums))\nprint(new_nums)",
      "metadata": {
        "trusted": true
      },
      "execution_count": 40,
      "outputs": [
        {
          "name": "stdout",
          "text": "[2, 4.2, 1.6, 4.4]\n",
          "output_type": "stream"
        }
      ]
    },
    {
      "cell_type": "markdown",
      "source": "## Reduce() <br>\n<p>Be very careful when using this function, as of Python 3 it's been moved to the 'functools' library and no longer is a built-in function.<br>The creator of Python himself, says to just use a for loop instead.</p>",
      "metadata": {}
    },
    {
      "cell_type": "markdown",
      "source": "#### Syntax",
      "metadata": {}
    },
    {
      "cell_type": "code",
      "source": "#just use a for loop instead\n",
      "metadata": {},
      "execution_count": null,
      "outputs": []
    },
    {
      "cell_type": "markdown",
      "source": "#### Using Lambda's with Reduce()",
      "metadata": {}
    },
    {
      "cell_type": "code",
      "source": "",
      "metadata": {},
      "execution_count": null,
      "outputs": []
    },
    {
      "cell_type": "markdown",
      "source": "#### In-Class Exercise #4 <br>\n<p>Use the reduce function to multiply the numbers in the list below together with a lambda function.</p>",
      "metadata": {}
    },
    {
      "cell_type": "code",
      "source": "",
      "metadata": {},
      "execution_count": null,
      "outputs": []
    },
    {
      "cell_type": "markdown",
      "source": "## Recursion <br>\n<p>Recursion means that a function is calling itself, so it contanstly executes until a base case is reached. It will then push the returning values back up the chain until the function is complete. A prime example of recursion is computing factorials... such that 5! (factorial) is 5*4*3*2*1 which equals 120.</p>",
      "metadata": {}
    },
    {
      "cell_type": "markdown",
      "source": "#### Implementing a Base Case",
      "metadata": {}
    },
    {
      "cell_type": "code",
      "source": "def addNums(num):\n    #set a base case to stop recursion from going forever\n    if num <= 1:\n        print(\"addNums(1) = 1\")\n        return num\n    else:\n        print(f\"addNums({num}) = {num} + addNums({num - 1})\")\n        return num + addNums(num -1)\n    \naddNums(5)\n        ",
      "metadata": {
        "trusted": true
      },
      "execution_count": 43,
      "outputs": [
        {
          "name": "stdout",
          "text": "addNums(5) = 5 + addNums(4)\naddNums(4) = 4 + addNums(3)\naddNums(3) = 3 + addNums(2)\naddNums(2) = 2 + addNums(1)\naddNames(1) = 1\n",
          "output_type": "stream"
        },
        {
          "execution_count": 43,
          "output_type": "execute_result",
          "data": {
            "text/plain": "15"
          },
          "metadata": {}
        }
      ]
    },
    {
      "cell_type": "markdown",
      "source": "#### Writing a Factorial Function",
      "metadata": {}
    },
    {
      "cell_type": "code",
      "source": "# 5! = 5 * 4 * 3 * 2 * 1\ndef factorial(num):\n    if num <= 1:\n        return 1\n    else:\n        return num * factorial(num - 1)\nfactorial(5)",
      "metadata": {
        "trusted": true
      },
      "execution_count": 44,
      "outputs": [
        {
          "execution_count": 44,
          "output_type": "execute_result",
          "data": {
            "text/plain": "120"
          },
          "metadata": {}
        }
      ]
    },
    {
      "cell_type": "markdown",
      "source": "#### In-Class Exercise #5 <br>\n<p>Write a recursive function that subtracts all numbers to the argument given.</p>",
      "metadata": {}
    },
    {
      "cell_type": "code",
      "source": "def subNums(num):\n    #set a base case to stop recursion from going forever\n    if num <= 1:\n        print(\"subNums(1) = 1\")\n        return num\n    else:\n        print(f\"subNums({num}) = {num} - subNums({num - 1})\")\n        return num + subNums(num - 1)\n    \nsubNums(5)\n        ",
      "metadata": {
        "trusted": true
      },
      "execution_count": 48,
      "outputs": [
        {
          "name": "stdout",
          "text": "subNums(5) = 5 - subNums(4)\nsubNums(4) = 4 - subNums(3)\nsubNums(3) = 3 - subNums(2)\nsubNums(2) = 2 - subNums(1)\nsubNums(1) = 1\n",
          "output_type": "stream"
        },
        {
          "execution_count": 48,
          "output_type": "execute_result",
          "data": {
            "text/plain": "15"
          },
          "metadata": {}
        }
      ]
    },
    {
      "cell_type": "markdown",
      "source": "## Generators <br>\n<p>Generators are a type of iterable, like lists or tuples. They do not allow indexing, but they can still be iterated through with for loops. They are created using functions and the yield statement.</p>",
      "metadata": {}
    },
    {
      "cell_type": "markdown",
      "source": "#### Yield Keyword <br>\n<p>The yield keyword denotes a generator, it doesn't return so it won't leave the function and reset all variables in the function scope, instead it yields the number back to the caller.</p>",
      "metadata": {}
    },
    {
      "cell_type": "code",
      "source": "def my_range(stop, start = 0, step = 2):\n    while start < stop:\n        yield start\n        start += step\nfor i in my_range(20):\n    my_generator_value = i\n    print(my_generator_value)",
      "metadata": {
        "trusted": true
      },
      "execution_count": 57,
      "outputs": [
        {
          "name": "stdout",
          "text": "0\n2\n4\n6\n8\n10\n12\n14\n16\n18\n",
          "output_type": "stream"
        }
      ]
    },
    {
      "cell_type": "markdown",
      "source": "#### Infinite Generator",
      "metadata": {}
    },
    {
      "cell_type": "code",
      "source": "# bad, never create infinite loops",
      "metadata": {},
      "execution_count": null,
      "outputs": []
    },
    {
      "cell_type": "markdown",
      "source": "#### In-Class Exercise #6 <br>\n<p>Create a generator that takes a number argument and yields that number squared, then prints each number squared until zero is reached.</p>",
      "metadata": {}
    },
    {
      "cell_type": "code",
      "source": "def my_range(start, stop = 0, step = 1):\n    while start > stop:\n        yield start * start\n        start -= step\nfor i in my_range(20):\n    my_generator_value = i\n    print(my_generator_value)",
      "metadata": {
        "trusted": true
      },
      "execution_count": 59,
      "outputs": [
        {
          "name": "stdout",
          "text": "400\n361\n324\n289\n256\n225\n196\n169\n144\n121\n100\n81\n64\n49\n36\n25\n16\n9\n4\n1\n",
          "output_type": "stream"
        }
      ]
    },
    {
      "cell_type": "markdown",
      "source": "# Exercises",
      "metadata": {}
    },
    {
      "cell_type": "markdown",
      "source": "### Exercise #1 <br>\n<p>Filter out all of the empty strings from the list below</p>\n\n`Output: ['Argentina', 'San Diego', 'Boston', 'New York']`",
      "metadata": {}
    },
    {
      "cell_type": "code",
      "source": "places = [\" \",\"Argentina\", \" \", \"San Diego\",\"\",\"  \",\"\",\"Boston\",\"New York\"]\nprocessed = list(filter(str.strip, places))\nprint(processed)\n",
      "metadata": {
        "trusted": true
      },
      "execution_count": 60,
      "outputs": [
        {
          "name": "stdout",
          "text": "['Argentina', 'San Diego', 'Boston', 'New York']\n",
          "output_type": "stream"
        }
      ]
    },
    {
      "cell_type": "markdown",
      "source": "### Exercise #2 <br>\n<p>Write an anonymous function that sorts this list by the last name...<br><b>Hint: Use the \".sort()\" method and access the key\"</b></p>\n\n`Output: ['Victor aNisimov', 'Gary A.J. Bernstein', 'Joel Carter', 'Andrew P. Garfield', 'David hassELHOFF']`",
      "metadata": {}
    },
    {
      "cell_type": "code",
      "source": "author = [\"Joel Carter\", \"Victor aNisimov\", \"Andrew P. Garfield\",\"David hassELHOFF\",\"Gary A.J. Bernstein\"]\nsort_author = sorted(author, key=lambda name: name.split(\" \")[-1].lower())\nprint(sort_author)",
      "metadata": {
        "trusted": true
      },
      "execution_count": 66,
      "outputs": [
        {
          "name": "stdout",
          "text": "['Victor aNisimov', 'Gary A.J. Bernstein', 'Joel Carter', 'Andrew P. Garfield', 'David hassELHOFF']\n",
          "output_type": "stream"
        }
      ]
    },
    {
      "cell_type": "markdown",
      "source": "### Exercise #3 <br>\n<p>Convert the list below from Celsius to Farhenheit, using the map function with a lambda...</p>\n\n`Output: [('Nashua', 89.6), ('Boston', 53.6), ('Los Angelos', 111.2), ('Miami', 84.2)]\n`",
      "metadata": {}
    },
    {
      "cell_type": "code",
      "source": "# F = (9/5)*C + 32\nplaces = [('Nashua',32),(\"Boston\",12),(\"Los Angelos\",44),(\"Miami\",29)]\ncelsius_places = list(map(lambda x: (x[0], (9/5) * x[1] + 32), places))\nprint(celsius_places)",
      "metadata": {
        "trusted": true
      },
      "execution_count": 73,
      "outputs": [
        {
          "name": "stdout",
          "text": "[('Nashua', 89.6), ('Boston', 53.6), ('Los Angelos', 111.2), ('Miami', 84.2)]\n",
          "output_type": "stream"
        }
      ]
    },
    {
      "cell_type": "markdown",
      "source": "### Exercise #4 <br>\n<p>Write a recursion function to perform the fibonacci sequence up to the number passed in.</p>\n\n`Output for fib(5) => \nIteration 0: 1\nIteration 1: 1\nIteration 2: 2\nIteration 3: 3\nIteration 4: 5\nIteration 5: 8`",
      "metadata": {}
    },
    {
      "cell_type": "code",
      "source": "def fib(n):\n    print(\"Output for fib(5) => \")\n    for i in range(n + 1):\n        print(\"Iteration({i}): {r}\".format(i=i,r=Iteration(i+1)))\nprint(fib(5))",
      "metadata": {
        "scrolled": true,
        "trusted": true
      },
      "execution_count": 110,
      "outputs": [
        {
          "name": "stdout",
          "text": "Output for fib(5) => \nIteration(0): 1\nIteration(1): 1\nIteration(2): 2\nIteration(3): 3\nIteration(4): 5\nIteration(5): 8\nNone\n",
          "output_type": "stream"
        }
      ]
    }
  ]
}